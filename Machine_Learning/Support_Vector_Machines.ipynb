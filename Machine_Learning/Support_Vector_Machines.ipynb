{
 "cells": [
  {
   "cell_type": "markdown",
   "metadata": {},
   "source": [
    "# Kuzushiji Classification with Support Vector Machines\n",
    "\n",
    "In this notebook we are going to explore the use of Support Vector Machines (SVM) for image classification. We will use a variant of the famous MNIST dataset (the original is a dataset of handwritten digits). The version we are going to use is called Kuzushiji-MNIST or K-MNIST for short (https://github.com/rois-codh/kmnist) and is a dataset of traditional japanese handwritten kana.\n",
    "\n",
    "\n",
    "\n",
    "The dataset labels are the following:\n",
    "\n",
    "| Label | Hiragana Character | Romanji (Pronunciation) |\n",
    "| :-: | :-: | :-: |\n",
    "|   0   | お | o |\n",
    "| 1 | き | ki |\n",
    "| 2 | す | su |\n",
    "| 3 | つ | tsu |\n",
    "| 4 | な | na |\n",
    "| 5 | は | ha |\n",
    "| 6 | ま | ma |\n",
    "| 7 | や | ya |\n",
    "| 8 | れ | re |\n",
    "| 9 | を | wo |"
   ]
  },
  {
   "cell_type": "markdown",
   "metadata": {},
   "source": [
    "## TODO: Insert your surname, name and ID number\n",
    "\n",
    "Student surname: Eleonora\n",
    "\n",
    "Student name: Bergamin\n",
    "    \n",
    "ID: 2060940"
   ]
  },
  {
   "cell_type": "code",
   "execution_count": 1,
   "metadata": {},
   "outputs": [],
   "source": [
    "#load the required packages\n",
    "\n",
    "%matplotlib inline  \n",
    "\n",
    "import numpy as np\n",
    "import scipy as sp\n",
    "import matplotlib.pyplot as plt\n",
    "\n",
    "import sklearn\n",
    "from sklearn.datasets import fetch_openml\n",
    "from sklearn.neural_network import MLPClassifier\n",
    "from sklearn.decomposition import PCA\n",
    "import sklearn.metrics as skm"
   ]
  },
  {
   "cell_type": "code",
   "execution_count": 2,
   "metadata": {},
   "outputs": [],
   "source": [
    "# helper function to load Kuzushiji-MNIST dataset\n",
    "def load_mnist(path, kind='train'):\n",
    "    import os\n",
    "    import gzip\n",
    "    import numpy as np\n",
    "    labels_path = os.path.join(path, 'K%s-labels-idx1-ubyte.gz' % kind)\n",
    "    images_path = os.path.join(path, 'K%s-images-idx3-ubyte.gz' % kind)\n",
    "    with gzip.open(labels_path, 'rb') as lbpath:\n",
    "        labels = np.frombuffer(lbpath.read(), dtype=np.uint8,offset=8)\n",
    "    with gzip.open(images_path, 'rb') as imgpath:\n",
    "        images = np.frombuffer(imgpath.read(), dtype=np.uint8,offset=16).reshape(len(labels), 784)\n",
    "    return images, labels"
   ]
  },
  {
   "cell_type": "code",
   "execution_count": 3,
   "metadata": {},
   "outputs": [],
   "source": [
    "#fix your ID (\"numero di matricola\") and the seed for random generator (as usual you can try different seeds)\n",
    "ID = 11614 # place a random seed\n",
    "np.random.seed(ID)"
   ]
  },
  {
   "cell_type": "code",
   "execution_count": 4,
   "metadata": {},
   "outputs": [
    {
     "name": "stdout",
     "output_type": "stream",
     "text": [
      "(60000, 784) (60000,)\n"
     ]
    }
   ],
   "source": [
    "#load the K-MNIST dataset from the 'data' folder and let's normalize the features so that each value is in [0,1] \n",
    "\n",
    "X, y = load_mnist('data', kind='train')\n",
    "# rescale the data\n",
    "X, y = X / 255., y # original pixel values are between 0 and 255\n",
    "print(X.shape, y.shape)"
   ]
  },
  {
   "cell_type": "markdown",
   "metadata": {},
   "source": [
    "Now split into training and test. Make sure that each label is present at least 10 times\n",
    "in training. If it is not, then keep adding permutations to the initial data until this \n",
    "happens."
   ]
  },
  {
   "cell_type": "code",
   "execution_count": 5,
   "metadata": {},
   "outputs": [
    {
     "name": "stdout",
     "output_type": "stream",
     "text": [
      "Labels in training dataset:  [0 1 2 3 4 5 6 7 8 9]\n",
      "Frequencies in training dataset:  [54 77 70 65 49 53 53 47 70 62]\n"
     ]
    }
   ],
   "source": [
    "# Random permute the data and split into training and test taking the first 600\n",
    "# data samples as training and 4000 samples as test\n",
    "permutation = np.random.permutation(X.shape[0])\n",
    "\n",
    "X = X[permutation]\n",
    "y = y[permutation]\n",
    "\n",
    "m_training = 600\n",
    "m_test = 4000\n",
    "\n",
    "X_train, X_test = X[:m_training], X[m_training:m_training+m_test:]\n",
    "y_train, y_test = y[:m_training], y[m_training:m_training+m_test:]\n",
    "\n",
    "labels, freqs = np.unique(y_train, return_counts=True)\n",
    "print(\"Labels in training dataset: \", labels)\n",
    "print(\"Frequencies in training dataset: \", freqs)\n"
   ]
  },
  {
   "cell_type": "code",
   "execution_count": 6,
   "metadata": {},
   "outputs": [],
   "source": [
    "#function for plotting a image and printing the corresponding label\n",
    "def plot_input(X_matrix, labels, index):\n",
    "    print(\"INPUT:\")\n",
    "    plt.imshow(\n",
    "        X_matrix[index].reshape(28,28),\n",
    "        cmap          = plt.cm.gray_r,\n",
    "        interpolation = \"nearest\"\n",
    "    )\n",
    "    plt.show()\n",
    "    print(\"LABEL: %i\"%labels[index])\n",
    "    return"
   ]
  },
  {
   "cell_type": "code",
   "execution_count": 7,
   "metadata": {},
   "outputs": [
    {
     "name": "stdout",
     "output_type": "stream",
     "text": [
      "INPUT:\n"
     ]
    },
    {
     "data": {
      "image/png": "[encoded data removed]",
      "text/plain": [
       "<Figure size 432x288 with 1 Axes>"
      ]
     },
     "metadata": {
      "needs_background": "light"
     },
     "output_type": "display_data"
    },
    {
     "name": "stdout",
     "output_type": "stream",
     "text": [
      "LABEL: 2\n",
      "INPUT:\n"
     ]
    },
    {
     "data": {
      "image/png": "[encoded data removed]",
      "text/plain": [
       "<Figure size 432x288 with 1 Axes>"
      ]
     },
     "metadata": {
      "needs_background": "light"
     },
     "output_type": "display_data"
    },
    {
     "name": "stdout",
     "output_type": "stream",
     "text": [
      "LABEL: 1\n",
      "INPUT:\n"
     ]
    },
    {
     "data": {
      "image/png": "[encoded data removed]",
      "text/plain": [
       "<Figure size 432x288 with 1 Axes>"
      ]
     },
     "metadata": {
      "needs_background": "light"
     },
     "output_type": "display_data"
    },
    {
     "name": "stdout",
     "output_type": "stream",
     "text": [
      "LABEL: 8\n",
      "INPUT:\n"
     ]
    },
    {
     "data": {
      "image/png": "[encoded data removed]",
      "text/plain": [
       "<Figure size 432x288 with 1 Axes>"
      ]
     },
     "metadata": {
      "needs_background": "light"
     },
     "output_type": "display_data"
    },
    {
     "name": "stdout",
     "output_type": "stream",
     "text": [
      "LABEL: 6\n"
     ]
    }
   ],
   "source": [
    "#let's try the plotting function\n",
    "plot_input(X_train,y_train,5)\n",
    "plot_input(X_test,y_test,50)\n",
    "plot_input(X_test,y_test,500)\n",
    "plot_input(X_test,y_test,700)"
   ]
  },
  {
   "cell_type": "markdown",
   "metadata": {},
   "source": [
    "## TO DO 1\n",
    "Use a SVM classifier with cross validation to pick a model. Use a 4-fold cross-validation. Let's start with a Linear kernel:"
   ]
  },
  {
   "cell_type": "code",
   "execution_count": 8,
   "metadata": {},
   "outputs": [
    {
     "name": "stdout",
     "output_type": "stream",
     "text": [
      "RESULTS FOR LINEAR KERNEL\n",
      "Best parameters set found: {'C': 0.01}\n",
      "Score with best parameters: 0.7283333333333334\n",
      "All scores on the grid [mean_test_score]: [0.72833333 0.715      0.71333333 0.71333333]\n"
     ]
    }
   ],
   "source": [
    "#import SVC\n",
    "from sklearn.svm import SVC\n",
    "#import for Cross-Validation\n",
    "from sklearn.model_selection import GridSearchCV\n",
    "\n",
    "# parameters for linear SVM\n",
    "parameters = {'C': [0.01, 0.1, 1, 10]}\n",
    "\n",
    "#train linear SVM\n",
    "\n",
    "g = GridSearchCV(SVC(kernel = \"linear\"), parameters, cv = 4)\n",
    "g.fit(X_train, y_train)\n",
    "\n",
    "print ('RESULTS FOR LINEAR KERNEL')\n",
    "\n",
    "print(\"Best parameters set found:\", g.best_params_)\n",
    "\n",
    "print(\"Score with best parameters:\", g.best_score_)\n",
    "\n",
    "print(\"All scores on the grid [mean_test_score]:\", g.cv_results_[\"mean_test_score\"])"
   ]
  },
  {
   "cell_type": "markdown",
   "metadata": {},
   "source": [
    "## TO DO 2\n",
    "Pick a model for the Polynomial kernel with degree=2:"
   ]
  },
  {
   "cell_type": "code",
   "execution_count": 9,
   "metadata": {},
   "outputs": [
    {
     "name": "stdout",
     "output_type": "stream",
     "text": [
      "RESULTS FOR POLY DEGREE=2 KERNEL\n",
      "Best parameters set found: {'C': 0.01, 'gamma': 1}\n",
      "Score with best parameters: 0.7566666666666666\n",
      "\n",
      "All scores on the grid [mean_test_score]: [0.12833333 0.745      0.75666667 0.34666667 0.75666667 0.75666667\n",
      " 0.745      0.75666667 0.75666667]\n"
     ]
    }
   ],
   "source": [
    "# parameters for poly with degree 2 kernel\n",
    "parameters = {'C': [0.01, 0.1, 1],'gamma':[0.01,0.1,1]}\n",
    "\n",
    "#run SVM with poly of degree 2 kernel\n",
    "\n",
    "g = GridSearchCV(SVC(kernel = \"poly\", degree = 2), parameters, cv = 4)\n",
    "g.fit(X_train, y_train)\n",
    "\n",
    "print ('RESULTS FOR POLY DEGREE=2 KERNEL')\n",
    "\n",
    "print(\"Best parameters set found:\", g.best_params_)\n",
    "\n",
    "print(\"Score with best parameters:\", g.best_score_)\n",
    "\n",
    "print(\"\\nAll scores on the grid [mean_test_score]:\", g.cv_results_[\"mean_test_score\"])"
   ]
  },
  {
   "cell_type": "markdown",
   "metadata": {},
   "source": [
    "## TO DO 3\n",
    "\n",
    "Now let's try a higher degree for the polynomial kernel (e.g., 3rd degree)."
   ]
  },
  {
   "cell_type": "code",
   "execution_count": 10,
   "metadata": {},
   "outputs": [
    {
     "name": "stdout",
     "output_type": "stream",
     "text": [
      "RESULTS FOR POLY DEGREE= 3  KERNEL\n",
      "Best parameters set found: {'C': 0.01, 'gamma': 1}\n",
      "Score with best parameters: 0.6983333333333334\n",
      "\n",
      "All scores on the grid [mean_test_score]: [0.12833333 0.695      0.69833333 0.32       0.69833333 0.69833333\n",
      " 0.65666667 0.69833333 0.69833333]\n"
     ]
    }
   ],
   "source": [
    "# parameters for poly with higher degree kernel\n",
    "parameters = {'C': [0.01, 0.1, 1],'gamma':[0.01,0.1,1]}\n",
    "\n",
    "#run SVM with poly of higher degree kernel\n",
    "degree = 3\n",
    "\n",
    "g = GridSearchCV(SVC(kernel = \"poly\", degree = degree), parameters, cv = 4)\n",
    "g.fit(X_train, y_train)\n",
    "\n",
    "\n",
    "print ('RESULTS FOR POLY DEGREE=', degree, ' KERNEL')\n",
    "\n",
    "print(\"Best parameters set found:\", g.best_params_)\n",
    "\n",
    "print(\"Score with best parameters:\", g.best_score_)\n",
    "\n",
    "print(\"\\nAll scores on the grid [mean_test_score]:\", g.cv_results_[\"mean_test_score\"])"
   ]
  },
  {
   "cell_type": "markdown",
   "metadata": {},
   "source": [
    "## TO DO 4\n",
    "Pick a model for the Radial Basis Function kernel:"
   ]
  },
  {
   "cell_type": "code",
   "execution_count": 11,
   "metadata": {},
   "outputs": [
    {
     "name": "stdout",
     "output_type": "stream",
     "text": [
      "RESULTS FOR rbf KERNEL\n",
      "Best parameters set found: {'C': 10, 'gamma': 0.01}\n",
      "Score with best parameters: 0.8\n",
      "\n",
      "All scores on the grid [mean_test_score]: [0.12833333 0.17166667 0.12833333 0.12833333 0.55333333 0.78\n",
      " 0.13666667 0.12833333 0.73       0.8        0.14833333 0.12833333\n",
      " 0.73166667 0.8        0.14833333 0.12833333]\n"
     ]
    }
   ],
   "source": [
    "# parameters for rbf SVM\n",
    "parameters = {'C': [0.1, 1, 10, 100],'gamma':[0.001, 0.01, 0.1,1]}\n",
    "\n",
    "#run SVM with rbf kernel\n",
    "\n",
    "g = GridSearchCV(SVC(kernel = \"rbf\"), parameters, cv = 4)\n",
    "g.fit(X_train, y_train)\n",
    "\n",
    "print ('RESULTS FOR rbf KERNEL')\n",
    "\n",
    "print(\"Best parameters set found:\", g.best_params_)\n",
    "\n",
    "print(\"Score with best parameters:\", g.best_score_)\n",
    "\n",
    "print(\"\\nAll scores on the grid [mean_test_score]:\", g.cv_results_[\"mean_test_score\"])"
   ]
  },
  {
   "cell_type": "markdown",
   "metadata": {},
   "source": [
    "## QUESTION 1\n",
    "What do you observe when using linear, polynomial and RBF kernels on this dataset ?\n",
    "\n",
    "**ANSWER QUESTION 1**\n",
    "\n",
    "The RBF kernel has the best accuracy (0.8); the ones of linear and 2nd degree polynomial kernels are comparable, with the 2nd polynomial kernel performing slightly better. The 3rd degree polynomial is the one with the worst performances. Mean_test_score gives the mean score for each combination of the parameters: since we use the k-fold validation method, it averages the scores on the tests minus the kth fold used for validation.\n",
    "\n",
    "Observing mean_test_score we can actually see that for each type of kernel there are different combinations of parameters in the grid for which the accuracy is similar."
   ]
  },
  {
   "cell_type": "markdown",
   "metadata": {},
   "source": [
    "## TO DO 5\n",
    "Report here the best SVM kernel and parameters"
   ]
  },
  {
   "cell_type": "code",
   "execution_count": 12,
   "metadata": {},
   "outputs": [
    {
     "name": "stdout",
     "output_type": "stream",
     "text": [
      "Best SVM training error: 0.000000\n",
      "Best SVM test error: 0.177000\n"
     ]
    }
   ],
   "source": [
    "#get training and test error for the best SVM model from CV\n",
    "best_SVM = SVC(kernel = \"rbf\", C = 10, gamma = 0.01) # USE YOUR OPTIMAL PARAMETERS\n",
    "best_SVM.fit(X_train, y_train)\n",
    "\n",
    "training_error = 1 - best_SVM.score(X_train, y_train)\n",
    "test_error = 1 - best_SVM.score(X_test, y_test)\n",
    "\n",
    "# (error is 1 - svm.score)\n",
    "\n",
    "print (\"Best SVM training error: %f\" % training_error)\n",
    "print (\"Best SVM test error: %f\" % test_error)"
   ]
  },
  {
   "cell_type": "markdown",
   "metadata": {},
   "source": [
    "## TO DO 6\n",
    "\n",
    "Analyze how the gamma parameter (inversely proportional to standard deviation of Gaussian Kernel) impact the performances of the classifier"
   ]
  },
  {
   "cell_type": "code",
   "execution_count": 13,
   "metadata": {},
   "outputs": [
    {
     "name": "stdout",
     "output_type": "stream",
     "text": [
      "[1.e-05 1.e-04 1.e-03 1.e-02 1.e-01 1.e+00 1.e+01 1.e+02]\n"
     ]
    }
   ],
   "source": [
    "#Test with different values of gamma\n",
    "\n",
    "# Set gamma values\n",
    "gamma_values = np.logspace(-5,2,8)\n",
    "print(gamma_values)\n"
   ]
  },
  {
   "cell_type": "code",
   "execution_count": 14,
   "metadata": {
    "scrolled": true
   },
   "outputs": [
    {
     "data": {
      "image/png": "[encoded data removed]",
      "text/plain": [
       "<Figure size 1080x360 with 2 Axes>"
      ]
     },
     "metadata": {
      "needs_background": "light"
     },
     "output_type": "display_data"
    }
   ],
   "source": [
    "# Try the SVM with the previously set values of gamma\n",
    "# use rbf kernel and C=1\n",
    "\n",
    "#from functools import partial\n",
    "\n",
    "train_acc_list, test_acc_list = [], []\n",
    "\n",
    "    \n",
    "# ADD YOUR CODE TO TRAIN THE SVM MULTIPLE TIMES WITH THE DIFFERENT VALUES OF GAMMA\n",
    "# PLACE THE TRAIN AND TEST ACCURACY FOR EACH TEST IN THE TRAIN AND TEST ACCURACY LISTS\n",
    "\n",
    "for gm in gamma_values:\n",
    "    svm_gamma = SVC(kernel = \"rbf\", C = 1, gamma = gm)\n",
    "    svm_gamma.fit(X_train, y_train)\n",
    "    train_acc_list.append(svm_gamma.score(X_train, y_train))\n",
    "    test_acc_list.append(svm_gamma.score(X_test, y_test))\n",
    "\n",
    "# Plot\n",
    "fig, ax = plt.subplots(1,2, figsize=(15,5))\n",
    "\n",
    "ax[0].plot(gamma_values, train_acc_list)\n",
    "ax[0].set_xscale('log')\n",
    "ax[0].set_xlabel('gamma')\n",
    "ax[0].set_ylabel('Train accuracy')\n",
    "ax[0].grid(True)\n",
    "\n",
    "ax[1].plot(gamma_values, test_acc_list)\n",
    "ax[1].set_xscale('log')\n",
    "ax[1].set_xlabel('gamma')\n",
    "ax[1].set_ylabel('Test accuracy')\n",
    "ax[1].grid(True)\n",
    "\n",
    "\n",
    "plt.show()"
   ]
  },
  {
   "cell_type": "markdown",
   "metadata": {},
   "source": [
    "## QUESTION 2\n",
    "How do the train and test error change when changing gamma ? Which is the best value of gamma ? \n",
    "Connect your answers to the discussion about the overfitting issue.\n",
    "\n",
    "**ANSWER QUESTION 2**\n",
    "\n",
    "$\\gamma$ is proportional to the inverse of the gaussian variance, and controls the distance in the kernel function: the more $\\gamma$ increases, the more the variance decreases, and the variance controls how spread can be the points to be considered close. The smaller the variance, the closer have to be the points to be close also in the kernel function.\n",
    "\n",
    "We can see that the training accuracy increases as $\\gamma$ increase. The behavior in the test set however is different: up to a certain value of $\\gamma$ ($\\approx 10^{-2}$) the trend is similar to the training one and the accuracy increases. Then, as $\\gamma$ gets larger we see that the error gets larger too instead of decreasing. This is the case of overfitting the training data: as $\\sigma^2$ decreases the decision boundaries move closer to the data and the region fits better the data; however considering different data samples (the test set) the decision boundaries give a worse accuracy and a higher rate of misclassified samples."
   ]
  },
  {
   "cell_type": "markdown",
   "metadata": {},
   "source": [
    "## More data\n",
    "Now let's do the same but using more data points for training.\n",
    "\n",
    "\n",
    "Choose a new number of data points."
   ]
  },
  {
   "cell_type": "code",
   "execution_count": 15,
   "metadata": {},
   "outputs": [
    {
     "name": "stdout",
     "output_type": "stream",
     "text": [
      "Labels in training dataset:  [0 1 2 3 4 5 6 7 8 9]\n",
      "Frequencies in training dataset:  [205 211 202 197 186 213 176 194 187 229]\n"
     ]
    }
   ],
   "source": [
    "X = X[permutation]\n",
    "y = y[permutation]\n",
    "\n",
    "m_training = 2000 # TODO number of data points, adjust depending on the capabilities of your PC\n",
    "\n",
    "X_train, X_test = X[:m_training], X[m_training:]\n",
    "y_train, y_test = y[:m_training], y[m_training:]\n",
    "\n",
    "labels, freqs = np.unique(y_train, return_counts=True)\n",
    "print(\"Labels in training dataset: \", labels)\n",
    "print(\"Frequencies in training dataset: \", freqs)"
   ]
  },
  {
   "cell_type": "markdown",
   "metadata": {},
   "source": [
    "## TO DO 7\n",
    "\n",
    "Let's try to use SVM with parameters obtained from the best model for $m_{training} =  2000$. Since it may take a long time to run, you can decide to just let it run for some time and stop it if it does not complete. If you decide to do this, report it in the cell below."
   ]
  },
  {
   "cell_type": "code",
   "execution_count": 16,
   "metadata": {
    "scrolled": true
   },
   "outputs": [
    {
     "name": "stdout",
     "output_type": "stream",
     "text": [
      "Best SVM training error: 0.000000\n",
      "Best SVM test error: 0.116966\n"
     ]
    }
   ],
   "source": [
    "#get training and test error for the best SVM model from CV\n",
    "\n",
    "best_SVM = SVC(kernel = \"rbf\", C = 10, gamma = 0.01) # USE YOUR OPTIMAL PARAMETERS\n",
    "best_SVM.fit(X_train, y_train)\n",
    "\n",
    "training_error = 1 - best_SVM.score(X_train, y_train)\n",
    "test_error = 1 - best_SVM.score(X_test, y_test)\n",
    "\n",
    "print (\"Best SVM training error: %f\" % training_error)\n",
    "print (\"Best SVM test error: %f\" % test_error)"
   ]
  },
  {
   "cell_type": "markdown",
   "metadata": {},
   "source": [
    "Just for comparison, let's also use logistic regression \n",
    "\n",
    "## TO DO 8 Try first without regularization (use a very large large C)¶"
   ]
  },
  {
   "cell_type": "code",
   "execution_count": 17,
   "metadata": {},
   "outputs": [
    {
     "name": "stdout",
     "output_type": "stream",
     "text": [
      "Best logistic regression training error: 0.000000\n",
      "Best logistic regression test error: 0.302362\n"
     ]
    }
   ],
   "source": [
    "from sklearn import linear_model\n",
    "\n",
    "logreg = linear_model.LogisticRegression(C = 1e10)\n",
    "logreg.fit(X_train, y_train)\n",
    "\n",
    "training_error = 1 - logreg.score(X_train, y_train)\n",
    "test_error = 1 - logreg.score(X_test, y_test)\n",
    "\n",
    "print (\"Best logistic regression training error: %f\" % training_error)\n",
    "print (\"Best logistic regression test error: %f\" % test_error)"
   ]
  },
  {
   "cell_type": "markdown",
   "metadata": {},
   "source": [
    "## TO DO 9 Try  with regularization (use C=1)¶"
   ]
  },
  {
   "cell_type": "code",
   "execution_count": 18,
   "metadata": {},
   "outputs": [
    {
     "name": "stdout",
     "output_type": "stream",
     "text": [
      "Best regularized logistic regression training error: 0.002500\n",
      "Best regularized logistic regression test error: 0.261655\n"
     ]
    }
   ],
   "source": [
    "logreg = linear_model.LogisticRegression(C = 1, max_iter = 500) #increase in max number of iterations otherwise it does not complete the task\n",
    "logreg.fit(X_train, y_train)\n",
    "\n",
    "training_error = 1 - logreg.score(X_train, y_train)\n",
    "test_error = 1 - logreg.score(X_test, y_test)\n",
    "\n",
    "print (\"Best regularized logistic regression training error: %f\" % training_error)\n",
    "print (\"Best regularized logistic regression test error: %f\" % test_error)"
   ]
  },
  {
   "cell_type": "markdown",
   "metadata": {},
   "source": [
    "## QUESTION 3\n",
    "Compare and discuss:\n",
    "- the results from SVM with m=600 and with m=2000 training data points. If you stopped the SVM, include such aspect in your comparison.\n",
    "- the results of SVM and of Logistic Regression\n",
    "\n",
    "**ANSWER QUESTION 3**\n",
    "\n",
    "We can see that in both cases the traning error is 0: this means the algorithm perfectly learned how to classify the training data. The test data, which is made of new samples, has its associated error different from zero, but with 2000 samples we see that the error decreases.\n",
    "This is actually expected since we have a larger training set available, so we can find a better fit for the data.\n",
    "\n",
    "As for logistic regression, even if in the case of no regularization the training error is 0, the performance is worse than the one of the SVM on the test set. Using regularization the results are better than without regolarization: this could mean the regularization can have avoided partially the overfitting of the data. "
   ]
  },
  {
   "cell_type": "markdown",
   "metadata": {},
   "source": [
    "## TO DO 10\n",
    "Plot an item of clothing that is missclassified by logistic regression and correctly classified by SVM."
   ]
  },
  {
   "cell_type": "code",
   "execution_count": 19,
   "metadata": {},
   "outputs": [
    {
     "name": "stdout",
     "output_type": "stream",
     "text": [
      "INPUT:\n"
     ]
    },
    {
     "data": {
      "image/png": "[encoded data removed]",
      "text/plain": [
       "<Figure size 432x288 with 1 Axes>"
      ]
     },
     "metadata": {
      "needs_background": "light"
     },
     "output_type": "display_data"
    },
    {
     "name": "stdout",
     "output_type": "stream",
     "text": [
      "LABEL: 4\n",
      "wrong LR prediction:  2\n",
      "correct SVM prediction:  4\n"
     ]
    }
   ],
   "source": [
    "LR_prediction = logreg.predict(X_test)\n",
    "SVM_prediction = best_SVM.predict(X_test)\n",
    "\n",
    "idx_misc = -2\n",
    "i = 0\n",
    "\n",
    "while ((idx_misc != -1) and (i < len(y_test))):\n",
    "    if ((LR_prediction[i] != y_test[i]) and (SVM_prediction[i] == y_test[i])):\n",
    "        idx_misc = -1\n",
    "        plot_input(X_test,y_test, i)\n",
    "        print(\"wrong LR prediction: \", LR_prediction[i])\n",
    "        print(\"correct SVM prediction: \", SVM_prediction[i])\n",
    "    i += 1"
   ]
  },
  {
   "cell_type": "markdown",
   "metadata": {},
   "source": [
    "## TO DO 11\n",
    "Plot the confusion matrix for the SVM classifier and for logistic regression.\n",
    "The confusion matrix has one column for each predicted label and one row for each true label. \n",
    "It shows for each class in the corresponding row how many samples belonging to that class gets each possible output label.\n",
    "Notice that the diagonal contains the correctly classified samples, while the other cells correspond to errors.\n",
    "You can obtain it with the sklearn.metrics.confusion_matrix function (see the documentation).\n",
    "Try also to normalize the confusion matrix by the number of samples in each class in order to measure the accuracy on each single class.\n"
   ]
  },
  {
   "cell_type": "code",
   "execution_count": 20,
   "metadata": {},
   "outputs": [
    {
     "name": "stdout",
     "output_type": "stream",
     "text": [
      "Labels and frequencies in test set:  [5795 5789 5798 5803 5814 5787 5824 5806 5813 5771]\n",
      "\n",
      " Confusion matrix SVM  \n",
      " \n",
      " [[5352   10    4   36   75   42    7  116  121   32]\n",
      " [  25 5102  151   62   78   13  129    5   66  158]\n",
      " [   1  109 4752  189   69   54  313   10  185  116]\n",
      " [   8   80  108 5341   39  109   15   17   66   20]\n",
      " [ 173  204  122   98 4861   30   92   28   97  109]\n",
      " [  46   57  120  151   39 5235   42   18   56   23]\n",
      " [  20  148  400   48  198   27 4781   81   86   35]\n",
      " [  38   49   69   64  151   16   65 5218   68   68]\n",
      " [  17  151   81   72   19   60   85   10 5277   41]\n",
      " [  47  109  122   19   78   20   19   18   42 5297]]\n",
      "\n",
      " Confusion matrix SVM (normalized)   \n",
      " \n",
      " [[0.92 0.   0.   0.01 0.01 0.01 0.   0.02 0.02 0.01]\n",
      " [0.   0.88 0.03 0.01 0.01 0.   0.02 0.   0.01 0.03]\n",
      " [0.   0.02 0.82 0.03 0.01 0.01 0.05 0.   0.03 0.02]\n",
      " [0.   0.01 0.02 0.92 0.01 0.02 0.   0.   0.01 0.  ]\n",
      " [0.03 0.04 0.02 0.02 0.84 0.01 0.02 0.   0.02 0.02]\n",
      " [0.01 0.01 0.02 0.03 0.01 0.9  0.01 0.   0.01 0.  ]\n",
      " [0.   0.03 0.07 0.01 0.03 0.   0.82 0.01 0.01 0.01]\n",
      " [0.01 0.01 0.01 0.01 0.03 0.   0.01 0.9  0.01 0.01]\n",
      " [0.   0.03 0.01 0.01 0.   0.01 0.01 0.   0.91 0.01]\n",
      " [0.01 0.02 0.02 0.   0.01 0.   0.   0.   0.01 0.92]]\n",
      "\n",
      " Confusion matrix LR  \n",
      " \n",
      " [[4821   13   53   58  203  249    9  171  114  104]\n",
      " [  31 4163  424  125  153   95  239   39  215  305]\n",
      " [   6  283 3661  223  127  258  512   43  382  303]\n",
      " [  22  142  119 4613  100  409   52   67  209   70]\n",
      " [ 208  308  349  168 3897  137  208  120  114  305]\n",
      " [ 161   99  248  271   54 4608   99   76  115   56]\n",
      " [  61  254  561  107  190  155 4087  120  204   85]\n",
      " [  98   73  165  242  202  311  107 4373  125  110]\n",
      " [  92  340  476  146   92  237  249   13 4033  135]\n",
      " [ 125  238  317   45  162   90   25   85  116 4568]]\n",
      "\n",
      " Confusion matrix LR (normalized)   \n",
      " \n",
      " [[0.83 0.   0.01 0.01 0.04 0.04 0.   0.03 0.02 0.02]\n",
      " [0.01 0.72 0.07 0.02 0.03 0.02 0.04 0.01 0.04 0.05]\n",
      " [0.   0.05 0.63 0.04 0.02 0.04 0.09 0.01 0.07 0.05]\n",
      " [0.   0.02 0.02 0.79 0.02 0.07 0.01 0.01 0.04 0.01]\n",
      " [0.04 0.05 0.06 0.03 0.67 0.02 0.04 0.02 0.02 0.05]\n",
      " [0.03 0.02 0.04 0.05 0.01 0.8  0.02 0.01 0.02 0.01]\n",
      " [0.01 0.04 0.1  0.02 0.03 0.03 0.7  0.02 0.04 0.01]\n",
      " [0.02 0.01 0.03 0.04 0.03 0.05 0.02 0.75 0.02 0.02]\n",
      " [0.02 0.06 0.08 0.03 0.02 0.04 0.04 0.   0.69 0.02]\n",
      " [0.02 0.04 0.05 0.01 0.03 0.02 0.   0.01 0.02 0.79]]\n"
     ]
    }
   ],
   "source": [
    "np.set_printoptions(precision=2, suppress=True) # for better aligned printing of confusion matrix use floatmode='fixed'\n",
    "\n",
    "u, counts = np.unique(y_test, return_counts=True)\n",
    "print(\"Labels and frequencies in test set: \", counts)\n",
    "\n",
    "confusion_SVM = skm.confusion_matrix(y_test, SVM_prediction)\n",
    "print(\"\\n Confusion matrix SVM  \\n \\n\", confusion_SVM)\n",
    "norm_confusion_SVM = confusion_SVM /counts[:,None] # I do the normalization here so I can use this matrix to plot instead of doing the same operation again\n",
    "\n",
    "print(\"\\n Confusion matrix SVM (normalized)   \\n \\n\", norm_confusion_SVM )\n",
    "\n",
    "confusion_LR = skm.confusion_matrix(y_test, LR_prediction)\n",
    "print(\"\\n Confusion matrix LR  \\n \\n\", confusion_LR)\n",
    "norm_confusion_LR = confusion_LR /counts[:,None] # I do the normalization here so I can use this matrix to plot instead of doing the same operation again\n",
    "print(\"\\n Confusion matrix LR (normalized)   \\n \\n\", norm_confusion_LR )"
   ]
  },
  {
   "cell_type": "code",
   "execution_count": 21,
   "metadata": {},
   "outputs": [
    {
     "data": {
      "image/png": "[encoded data removed]",
      "text/plain": [
       "<Figure size 432x432 with 1 Axes>"
      ]
     },
     "metadata": {
      "needs_background": "light"
     },
     "output_type": "display_data"
    },
    {
     "data": {
      "image/png": "[encoded data removed]",
      "text/plain": [
       "<Figure size 432x432 with 1 Axes>"
      ]
     },
     "metadata": {
      "needs_background": "light"
     },
     "output_type": "display_data"
    }
   ],
   "source": [
    "#code to better visualize the confusion matrix\n",
    "def pltcmatrix(m, title):\n",
    "    fig, ax = plt.subplots(figsize=(6,6))\n",
    "    ax = plt.gca()\n",
    "    ax.imshow(m)\n",
    "\n",
    "    # We want to show all ticks...\n",
    "    ax.set_xticks(np.arange(m.shape[1]))\n",
    "    ax.set_yticks(np.arange(m.shape[0]))\n",
    "    \n",
    "    # Loop over data dimensions and create text annotations.\n",
    "    for i in range(m.shape[0]):\n",
    "        for j in range(m.shape[1]):\n",
    "            text = ax.text(j, i, round(m[i, j], 2), ha=\"center\", va=\"center\", color=\"w\")\n",
    "            \n",
    "    ax.set_xlabel(\"predicted label\")\n",
    "    ax.set_ylabel(\"actual label\")\n",
    "    ax.set_title(title)\n",
    "    fig.tight_layout()\n",
    "    plt.show()\n",
    "    \n",
    "pltcmatrix(norm_confusion_SVM, \"SVM\")\n",
    "pltcmatrix(norm_confusion_LR, \"Logistic Regression\")"
   ]
  },
  {
   "cell_type": "markdown",
   "metadata": {},
   "source": [
    "## QUESTION 4\n",
    "Have a look at the confusion matrices and comment on the obtained accuracies. Why some classes have lower accuracies and others an higher one ? Make some guesses on the possible causes.\n"
   ]
  },
  {
   "cell_type": "markdown",
   "metadata": {},
   "source": [
    "**ANSWER QUESTION 4**\n",
    "\n",
    "The accuracy is generally quite good,but we can see that the SVM one is higher than the logistic regression accuracy.\n",
    "We have that the SVM accuracy (even changing the seed) is always higher than 0.8, with the symbols with labels 1, 2, 4 and 6 the accuracy is lower than 0.9 but higher than 0.8.\n",
    "\n",
    "Remembering the actual symbols:\n",
    "\n",
    "| Label | Hiragana Character | Romanji (Pronunciation) |\n",
    "| :-: | :-: | :-: |\n",
    "|   0   | お | o |\n",
    "| 1 | き | ki |\n",
    "| 2 | す | su |\n",
    "| 3 | つ | tsu |\n",
    "| 4 | な | na |\n",
    "| 5 | は | ha |\n",
    "| 6 | ま | ma |\n",
    "| 7 | や | ya |\n",
    "| 8 | れ | re |\n",
    "| 9 | を | wo |\n",
    "\n",
    "We can see for example that the hiragana 1 is usually misclassified as 4, 6 or 8, hiragana 2 as 6 or 1 and hiragana 6 as 2. The misclassification percentages for each class are amplified in the LR, which makes errors mainly on the same labels as the SVM but with a higher error rate.\n",
    "We can gather then that the reason of having lower chance of getting misclassified could be simplicity (3), a charasteristic designs (9), being \"composed\" of different parts (1, 5)."
   ]
  },
  {
   "cell_type": "code",
   "execution_count": null,
   "metadata": {},
   "outputs": [],
   "source": []
  }
 ],
 "metadata": {
  "kernelspec": {
   "display_name": "Python 3",
   "language": "python",
   "name": "python3"
  },
  "language_info": {
   "codemirror_mode": {
    "name": "ipython",
    "version": 3
   },
   "file_extension": ".py",
   "mimetype": "text/x-python",
   "name": "python",
   "nbconvert_exporter": "python",
   "pygments_lexer": "ipython3",
   "version": "3.7.4"
  }
 },
 "nbformat": 4,
 "nbformat_minor": 4
}
